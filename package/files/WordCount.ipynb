{
 "cells": [
  {
   "cell_type": "code",
   "execution_count": 21,
   "metadata": {
    "collapsed": false
   },
   "outputs": [
    {
     "data": {
      "text/plain": [
       "[(u'', 1193686),\n",
       " (u'!=', 624),\n",
       " (u'\"\"', 1136),\n",
       " (u'\"\"}]},', 1),\n",
       " (u'\"$DEBUG\"', 156),\n",
       " (u'\"$JAVA_HOME\"', 312),\n",
       " (u'\"$SERVICE\"', 156),\n",
       " (u'\"$YARN_HEAPSIZE\"', 156),\n",
       " (u'\"$YARN_LOGFILE\"', 156),\n",
       " (u'\"$YARN_LOG_DIR\"', 156),\n",
       " (u'\"$YARN_POLICYFILE\"', 156),\n",
       " (u'\"${HIVE_AUX_JARS_PATH}\"', 156),\n",
       " (u'\"\\',', 156),\n",
       " (u'\"/\",', 1),\n",
       " (u'\"/boot\",', 1),\n",
       " (u'\"/dev/mapper/vg_n2-lv_home\",', 1),\n",
       " (u'\"/dev/mapper/vg_n2-lv_root\",', 1),\n",
       " (u'\"/dev/sda1\",', 1),\n",
       " (u'\"/dev/shm\",', 1),\n",
       " (u'\"/etc/falcon\"},', 1),\n",
       " (u'\"/etc/flume\"},', 1),\n",
       " (u'\"/etc/ganglia\"},', 1),\n",
       " (u'\"/etc/hadoop\"},', 1),\n",
       " (u'\"/etc/hbase\"},', 1),\n",
       " (u'\"/etc/hive\"},', 1)]"
      ]
     },
     "execution_count": 21,
     "metadata": {},
     "output_type": "execute_result"
    }
   ],
   "source": [
    "counts = sc.textFile('file:///var/log/ambari-agent/ambari-agent.log') \\\n",
    " .flatMap(lambda x: x.split(' ')) \\\n",
    " .map(lambda x: (x, 1)) \\\n",
    " .reduceByKey(add)\n",
    "\n",
    "counts.sortByKey().take(25)"
   ]
  }
 ],
 "metadata": {
  "kernelspec": {
   "display_name": "Python 2",
   "language": "python",
   "name": "python2"
  },
  "language_info": {
   "codemirror_mode": {
    "name": "ipython",
    "version": 2
   },
   "file_extension": ".py",
   "mimetype": "text/x-python",
   "name": "python",
   "nbconvert_exporter": "python",
   "pygments_lexer": "ipython2",
   "version": "2.7.9"
  }
 },
 "nbformat": 4,
 "nbformat_minor": 0
}
